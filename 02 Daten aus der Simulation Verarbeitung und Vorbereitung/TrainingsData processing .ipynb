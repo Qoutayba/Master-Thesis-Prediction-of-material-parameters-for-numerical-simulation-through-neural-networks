{
 "cells": [
  {
   "cell_type": "code",
   "execution_count": 2,
   "metadata": {
    "executionInfo": {
     "elapsed": 14,
     "status": "ok",
     "timestamp": 1641734502419,
     "user": {
      "displayName": "Qoutayba Abboud",
      "photoUrl": "https://lh3.googleusercontent.com/a/default-user=s64",
      "userId": "04771116645932350036"
     },
     "user_tz": -60
    },
    "id": "CZ7DLv2KafLK"
   },
   "outputs": [],
   "source": [
    "import numpy as np\n",
    "import matplotlib.pyplot as plt\n",
    "import h5py\n",
    "import matplotlib.pyplot as plt"
   ]
  },
  {
   "cell_type": "code",
   "execution_count": 3,
   "metadata": {
    "executionInfo": {
     "elapsed": 2952,
     "status": "ok",
     "timestamp": 1641734508231,
     "user": {
      "displayName": "Qoutayba Abboud",
      "photoUrl": "https://lh3.googleusercontent.com/a/default-user=s64",
      "userId": "04771116645932350036"
     },
     "user_tz": -60
    },
    "id": "7icyDEk6a4Q2"
   },
   "outputs": [],
   "source": [
    "h5file1 = h5py.File('HDF5-File-from-simulations/Training data 4050 all nodes.h5', 'r' )                         \n",
    "h5file2 = h5py.File('HDF5-File-from-simulations/Training data 2500 all nodes.h5', 'r' )\n",
    "h5file3 = h5py.File('HDF5-File-from-simulations/Training data 1500 all nodes.h5', 'r' )\n",
    "h5file4 = h5py.File('HDF5-File-from-simulations/Training data 2100 all nodes.h5', 'r' )"
   ]
  },
  {
   "cell_type": "code",
   "execution_count": 4,
   "metadata": {
    "colab": {
     "base_uri": "https://localhost:8080/"
    },
    "executionInfo": {
     "elapsed": 41943,
     "status": "ok",
     "timestamp": 1640082005305,
     "user": {
      "displayName": "Qoutayba Abboud",
      "photoUrl": "https://lh3.googleusercontent.com/a/default-user=s64",
      "userId": "04771116645932350036"
     },
     "user_tz": -60
    },
    "id": "Li2hWPHqbQUS",
    "outputId": "720fdbe0-99e7-4366-d685-90922b792217"
   },
   "outputs": [
    {
     "name": "stdout",
     "output_type": "stream",
     "text": [
      "(101, 272)\n",
      "(101, 272)\n",
      "(101,)\n",
      "(6,)\n",
      "(101, 272)\n",
      "(101, 272)\n",
      "(101,)\n",
      "(6,)\n",
      "(101, 272)\n",
      "(101, 272)\n",
      "(101,)\n",
      "(6,)\n",
      "(101, 272)\n",
      "(101, 272)\n",
      "(101,)\n",
      "(6,)\n"
     ]
    }
   ],
   "source": [
    "for i in range(4050):\n",
    "    locals()[\"xdisplacement1\"+str(i)] = np.array(h5file1['case{}/x_displacement{}'.format(i,i)])\n",
    "    locals()[\"ydisplacement1\"+str(i)] = np.array(h5file1['case{}/y_displacement{}'.format(i,i)])\n",
    "    locals()[\"xforce1\"+str(i)] = np.array(h5file1['case{}/x_force{}'.format(i,i)])*2.61                          # hier wird die decke der Probe berücksichtigt\n",
    "    locals()[\"labell1\"+str(i)] = np.array(h5file1['case{}/Label{}'.format(i,i)])\n",
    "    #print(locals()[\"xdis1\"+str(i)].shape)\n",
    "for i in range(2500):\n",
    "    locals()[\"xdisplacement2\"+str(i)] = np.array(h5file2['case{}/x_displacement{}'.format(i,i)])\n",
    "    locals()[\"ydisplacement2\"+str(i)] = np.array(h5file2['case{}/y_displacement{}'.format(i,i)])\n",
    "    locals()[\"xforce2\"+str(i)] = np.array(h5file2['case{}/x_force{}'.format(i,i)])*2.61\n",
    "    locals()[\"labell2\"+str(i)] = np.array(h5file2['case{}/Label{}'.format(i,i)])\n",
    "    #print(locals()[\"xdis1\"+str(i)].shape)\n",
    "for i in range(1500):\n",
    "    locals()[\"xdisplacement3\"+str(i)] = np.array(h5file3['case{}/x_displacement{}'.format(i,i)])\n",
    "    locals()[\"ydisplacement3\"+str(i)] = np.array(h5file3['case{}/y_displacement{}'.format(i,i)])\n",
    "    locals()[\"xforce3\"+str(i)] = np.array(h5file3['case{}/x_force{}'.format(i,i)])*2.61\n",
    "    locals()[\"labell3\"+str(i)] = np.array(h5file3['case{}/Label{}'.format(i,i)])\n",
    "    #print(locals()[\"xdis1\"+str(i)].shape)\n",
    "for i in range(2100):\n",
    "    locals()[\"xdisplacement4\"+str(i)] = np.array(h5file4['case{}/x_displacement{}'.format(i,i)])\n",
    "    locals()[\"ydisplacement4\"+str(i)] = np.array(h5file4['case{}/y_displacement{}'.format(i,i)])\n",
    "    locals()[\"xforce4\"+str(i)] = np.array(h5file4['case{}/x_force{}'.format(i,i)])*2.61\n",
    "    locals()[\"labell4\"+str(i)] = np.array(h5file4['case{}/Label{}'.format(i,i)])\n",
    "    #print(locals()[\"xdis1\"+str(i)].shape)\n",
    "\n",
    "\n",
    "print(xdisplacement151.shape)\n",
    "print(ydisplacement151.shape)\n",
    "print(xforce112.shape)\n",
    "print(labell1999.shape)\n",
    "print(xdisplacement251.shape)\n",
    "print(ydisplacement251.shape)\n",
    "print(xforce212.shape)\n",
    "print(labell299.shape)\n",
    "print(xdisplacement351.shape)\n",
    "print(ydisplacement351.shape)\n",
    "print(xforce312.shape)\n",
    "print(labell399.shape)\n",
    "print(xdisplacement451.shape)\n",
    "print(ydisplacement451.shape)\n",
    "print(xforce412.shape)\n",
    "print(labell499.shape)\n",
    "#h5file1.close()\n",
    "#h5file2.close()"
   ]
  },
  {
   "cell_type": "code",
   "execution_count": 5,
   "metadata": {
    "colab": {
     "base_uri": "https://localhost:8080/"
    },
    "executionInfo": {
     "elapsed": 1571,
     "status": "ok",
     "timestamp": 1640082013847,
     "user": {
      "displayName": "Qoutayba Abboud",
      "photoUrl": "https://lh3.googleusercontent.com/a/default-user=s64",
      "userId": "04771116645932350036"
     },
     "user_tz": -60
    },
    "id": "T9Sv5S_GduVf",
    "outputId": "21bb44f9-415f-4be3-f1c9-2150c97c2038"
   },
   "outputs": [
    {
     "name": "stdout",
     "output_type": "stream",
     "text": [
      "(6,)\n",
      "(272, 101)\n",
      "(6,)\n",
      "(272, 101)\n"
     ]
    }
   ],
   "source": [
    "for i in range(4050):                                                                  #  hier wird die Kraft für die 272 knoten gegeben\n",
    "    locals()[\"xforc1\"+str(i)] = np.tile(locals()[\"xforce1\"+str(i)],(272,1))\n",
    "for i in range(2500):\n",
    "    locals()[\"xforc2\"+str(i)] = np.tile(locals()[\"xforce2\"+str(i)],(272,1))\n",
    "for i in range(1500):\n",
    "    locals()[\"xforc3\"+str(i)] = np.tile(locals()[\"xforce3\"+str(i)],(272,1))\n",
    "for i in range(2100):\n",
    "    locals()[\"xforc4\"+str(i)] = np.tile(locals()[\"xforce4\"+str(i)],(272,1))\n",
    "#for i in range(4050):\n",
    "#    locals()[\"labell\"+str(i)] = np.tile(locals()[\"labelll\"+str(i)],(272,1))\n",
    "print(labell11.shape)\n",
    "print(xforc11.shape)\n",
    "print(labell21.shape)\n",
    "print(xforc21.shape)"
   ]
  },
  {
   "cell_type": "code",
   "execution_count": 6,
   "metadata": {
    "colab": {
     "base_uri": "https://localhost:8080/"
    },
    "executionInfo": {
     "elapsed": 4745,
     "status": "ok",
     "timestamp": 1640082022051,
     "user": {
      "displayName": "Qoutayba Abboud",
      "photoUrl": "https://lh3.googleusercontent.com/a/default-user=s64",
      "userId": "04771116645932350036"
     },
     "user_tz": -60
    },
    "id": "9nvQL0K7cOd8",
    "outputId": "5a2cb14d-e406-4a21-ad68-b0941673a609"
   },
   "outputs": [
    {
     "name": "stdout",
     "output_type": "stream",
     "text": [
      "(10150, 272, 101)\n",
      "(10150, 272, 101)\n",
      "(10150, 272, 101)\n",
      "(10150, 6)\n"
     ]
    }
   ],
   "source": [
    "xdiss  = []\n",
    "ydiss  = []\n",
    "xfor   = []\n",
    "label  = []\n",
    "for j in range(4050):\n",
    "    xdiss.append(locals()[\"xdisplacement1\"+str(j)]) \n",
    "    ydiss.append(locals()[\"ydisplacement1\"+str(j)])\n",
    "    xfor.append(locals()[\"xforc1\"+str(j)])\n",
    "    label.append(locals()[\"labell1\"+str(j)])\n",
    "for j in range(2500):\n",
    "    xdiss.append(locals()[\"xdisplacement2\"+str(j)]) \n",
    "    ydiss.append(locals()[\"ydisplacement2\"+str(j)])\n",
    "    xfor.append(locals()[\"xforc2\"+str(j)])\n",
    "    label.append(locals()[\"labell2\"+str(j)])\n",
    "for j in range(1500):\n",
    "    xdiss.append(locals()[\"xdisplacement3\"+str(j)]) \n",
    "    ydiss.append(locals()[\"ydisplacement3\"+str(j)])\n",
    "    xfor.append(locals()[\"xforc3\"+str(j)])\n",
    "    label.append(locals()[\"labell3\"+str(j)])\n",
    "for j in range(2100):\n",
    "    xdiss.append(locals()[\"xdisplacement4\"+str(j)]) \n",
    "    ydiss.append(locals()[\"ydisplacement4\"+str(j)])\n",
    "    xfor.append(locals()[\"xforc4\"+str(j)])\n",
    "    label.append(locals()[\"labell4\"+str(j)])  \n",
    "xdiss = np.array(xdiss)                                                \n",
    "ydiss = np.array(ydiss)                                                \n",
    "xfor = np.array(xfor)                                                  # Matrix der Force                                                                                                                                               \n",
    "label  = np.array(label)                                               # Matrix der Labels\n",
    "xdis = xdiss.transpose(0,2,1)                                          # Matrix der X-verschiebung\n",
    "ydis = ydiss.transpose(0,2,1)                                          # Matrix der Y-verschiebung\n",
    "####################################################################################################################\n",
    "print(xdis.shape)\n",
    "print(ydis.shape)\n",
    "print(xfor.shape)\n",
    "print(label.shape)"
   ]
  },
  {
   "cell_type": "code",
   "execution_count": 7,
   "metadata": {
    "id": "kAkK0Amxd1Oa"
   },
   "outputs": [],
   "source": [
    "h5file1.close()\n",
    "h5file2.close()\n",
    "h5file3.close()\n",
    "h5file4.close()"
   ]
  },
  {
   "cell_type": "code",
   "execution_count": 8,
   "metadata": {
    "colab": {
     "base_uri": "https://localhost:8080/"
    },
    "executionInfo": {
     "elapsed": 7836,
     "status": "ok",
     "timestamp": 1640082045441,
     "user": {
      "displayName": "Qoutayba Abboud",
      "photoUrl": "https://lh3.googleusercontent.com/a/default-user=s64",
      "userId": "04771116645932350036"
     },
     "user_tz": -60
    },
    "id": "lHT9gqSVeA6T",
    "outputId": "75b76f01-c75f-4526-cc69-e6c728e79f69"
   },
   "outputs": [
    {
     "ename": "MemoryError",
     "evalue": "Unable to allocate 6.23 GiB for an array with shape (10150, 272, 101, 3) and data type float64",
     "output_type": "error",
     "traceback": [
      "Traceback \u001b[1;36m(most recent call last)\u001b[0m:\n",
      "  File \u001b[0;32m\"C:\\Users\\Qoutayba\\AppData\\Local\\Temp/ipykernel_21036/2925707427.py\"\u001b[0m, line \u001b[0;32m1\u001b[0m, in \u001b[0;35m<module>\u001b[0m\n    xyfornotscaled = np.stack((xdis,ydis,xfor),3)            # alle Zusamen in einer Matrix, dieser Matrix ist bereit zu geben im Netz und hat der Form(10150,272,101,3)\n",
      "  File \u001b[0;32m\"<__array_function__ internals>\"\u001b[0m, line \u001b[0;32m5\u001b[0m, in \u001b[0;35mstack\u001b[0m\n",
      "  File \u001b[0;32m\"C:\\Users\\Qoutayba\\anaconda3\\lib\\site-packages\\numpy\\core\\shape_base.py\"\u001b[0m, line \u001b[0;32m434\u001b[0m, in \u001b[0;35mstack\u001b[0m\n    return _nx.concatenate(expanded_arrays, axis=axis, out=out)\n",
      "\u001b[1;36m  File \u001b[1;32m\"<__array_function__ internals>\"\u001b[1;36m, line \u001b[1;32m5\u001b[1;36m, in \u001b[1;35mconcatenate\u001b[1;36m\u001b[0m\n",
      "\u001b[1;31mMemoryError\u001b[0m\u001b[1;31m:\u001b[0m Unable to allocate 6.23 GiB for an array with shape (10150, 272, 101, 3) and data type float64\n"
     ]
    }
   ],
   "source": [
    "xyfornotscaled = np.stack((xdis,ydis,xfor),3)            # alle Zusamen in einer Matrix, dieser Matrix ist bereit zu geben im Netz und hat der Form(10150,272,101,3)\n",
    "#xyfor1 = np.stack((xdisscaled,ydisscaled),3)            # Am besten mit Goggel Colab, da manchmal die Größe der Datei größer als die RAM im Rechner\n",
    "print(xyfornotscaled.shape)"
   ]
  },
  {
   "cell_type": "code",
   "execution_count": null,
   "metadata": {
    "colab": {
     "base_uri": "https://localhost:8080/"
    },
    "executionInfo": {
     "elapsed": 62146,
     "status": "ok",
     "timestamp": 1640082123635,
     "user": {
      "displayName": "Qoutayba Abboud",
      "photoUrl": "https://lh3.googleusercontent.com/a/default-user=s64",
      "userId": "04771116645932350036"
     },
     "user_tz": -60
    },
    "id": "vZg6LIAsa8RX",
    "outputId": "2a82b56f-0ed5-48a2-8b75-6c14238a8db9"
   },
   "outputs": [
    {
     "data": {
      "text/plain": [
       "<HDF5 dataset \"Labels\": shape (10150, 6), type \"<f8\">"
      ]
     },
     "execution_count": 11,
     "metadata": {},
     "output_type": "execute_result"
    }
   ],
   "source": [
    "filename = 'Finally Training data/Finally Training data 10150 not scaled.h5' # die Matrix wird auch als HDF5 gespeichert. Achtung für den Ort\n",
    "h5file = h5py.File( filename, 'w' )\n",
    "h5file.create_group('Training data not scaled')\n",
    "h5file['Training data not scaled'].create_dataset('xyfornotscaled', data = xyfornotscaled)\n",
    "h5file['Training data not scaled'].create_dataset('Labels', data = label) "
   ]
  },
  {
   "cell_type": "code",
   "execution_count": null,
   "metadata": {
    "id": "4bDiy-Gff5Ha"
   },
   "outputs": [],
   "source": [
    "h5file.close()"
   ]
  }
 ],
 "metadata": {
  "accelerator": "GPU",
  "colab": {
   "authorship_tag": "ABX9TyMrJWYo7cFlVYvUn6GtPaEA",
   "collapsed_sections": [],
   "machine_shape": "hm",
   "mount_file_id": "1ArB5aeFq1vX0XnOPMEZ4-_TQcXXDsL19",
   "name": "Data Training Processing minmax.ipynb",
   "provenance": []
  },
  "kernelspec": {
   "display_name": "Python 3 (Spyder)",
   "language": "python3",
   "name": "python3"
  },
  "language_info": {
   "codemirror_mode": {
    "name": "ipython",
    "version": 3
   },
   "file_extension": ".py",
   "mimetype": "text/x-python",
   "name": "python",
   "nbconvert_exporter": "python",
   "pygments_lexer": "ipython3",
   "version": "3.9.7"
  }
 },
 "nbformat": 4,
 "nbformat_minor": 4
}
